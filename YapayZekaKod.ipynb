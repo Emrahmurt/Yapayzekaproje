{
 "cells": [
  {
   "cell_type": "code",
   "execution_count": 15,
   "metadata": {},
   "outputs": [],
   "source": [
    "# TensorFlow ve Keras kütüphanelerini içe aktar\n",
    "import tensorflow as tf\n",
    "\n",
    "# Resim işleme için kullanılan kütüphaneler\n",
    "from tensorflow.keras.preprocessing.image import ImageDataGenerator, load_img, img_to_array\n",
    "\n",
    "# NumPy, dizilerle çalışmak için gerekli\n",
    "import numpy as np\n",
    "\n",
    "# İşletim sistemi işlemleri için os modülü\n",
    "import os\n",
    "\n",
    "# OpenCV ile görüntü işleme\n",
    "import cv2\n",
    "\n",
    "# Grafikleri çizmek için Matplotlib\n",
    "import matplotlib.pyplot as plt\n"
   ]
  },
  {
   "cell_type": "code",
   "execution_count": null,
   "metadata": {},
   "outputs": [
    {
     "name": "stdout",
     "output_type": "stream",
     "text": [
      "Veri seti boyutu: (114, 224, 224, 3)\n"
     ]
    }
   ],
   "source": [
    "# 📂 kartal ve kurt resimlerinin bulunduğu ana klasörleri tanımla\n",
    "train_dir = \"C:/Users/FUJITSU/OneDrive/Masaüstü/yapayzeka/test\"  # Eğitim verisi klasörü\n",
    "test_dir = \"C:/Users/FUJITSU/OneDrive/Masaüstü/yapayzeka/train\"    # Test verisi klasörü\n",
    "\n",
    "# 📏 Resim boyutlarını belirle (CNN modeline uygun hale getirmek için)\n",
    "IMG_WIDTH, IMG_HEIGHT = 224, 224\n",
    "\n",
    "# 🏷 Sınıf etiketlerini tanımla (0: kartal, 1: kurt)\n",
    "classes = ['eagle', 'wolf']\n",
    "\n",
    "# 📦 Boş listeler oluştur (Resimler ve etiketler için)\n",
    "X, Y = [], []\n",
    "\n",
    "# 🔄 Resimleri oku ve ön işleme tabi tut\n",
    "for class_name in classes:\n",
    "    class_path = os.path.join(train_dir, class_name)  # Sınıfa ait klasör yolu\n",
    "    for img_name in os.listdir(class_path):  # Klasördeki her bir resmi oku\n",
    "        img_path = os.path.join(class_path, img_name)  # Resmin tam yolunu al\n",
    "        img = load_img(img_path, target_size=(IMG_WIDTH, IMG_HEIGHT))  # Resmi oku ve boyutlandır\n",
    "        img_array = img_to_array(img) / 255.0  # Resmi normalize et (0-1 aralığına getir)\n",
    "        X.append(img_array)  # Listeye ekle\n",
    "        Y.append(classes.index(class_name))  # kartal = 0, Kurt = 1 olarak etiketle\n",
    "\n",
    "# 📊 Listeleri NumPy dizisine çevir\n",
    "X = np.array(X)\n",
    "Y = np.array(Y)\n",
    "\n",
    "# ✅ Veri setinin boyutunu ekrana yazdır\n",
    "print(f\"Veri seti boyutu: {X.shape}\")\n"
   ]
  },
  {
   "cell_type": "code",
   "execution_count": 17,
   "metadata": {},
   "outputs": [],
   "source": [
    "# 📌 Derin öğrenme modeli (CNN) oluşturuluyor\n",
    "model = tf.keras.Sequential([\n",
    "    # 🎯 İlk katman: 32 filtreli 3x3 konvolüsyon katmanı (Aktivasyon fonksiyonu: ReLU)\n",
    "    tf.keras.layers.Conv2D(32, (3, 3), activation='relu', input_shape=(IMG_WIDTH, IMG_HEIGHT, 3)),\n",
    "    \n",
    "    # 🔽 Max Pooling: 2x2 boyutunda havuzlama işlemi (Özellikleri küçültmek için)\n",
    "    tf.keras.layers.MaxPooling2D(2, 2),\n",
    "    \n",
    "    # 🎯 İkinci konvolüsyon katmanı (64 filtre, 3x3 kernel)\n",
    "    tf.keras.layers.Conv2D(64, (3, 3), activation='relu'),\n",
    "    tf.keras.layers.MaxPooling2D(2, 2),\n",
    "\n",
    "    # 🎯 Üçüncü konvolüsyon katmanı (128 filtre, 3x3 kernel)\n",
    "    tf.keras.layers.Conv2D(128, (3, 3), activation='relu'),\n",
    "    tf.keras.layers.MaxPooling2D(2, 2),\n",
    "\n",
    "    # 🔄 Düzleştirme katmanı (Flatten)\n",
    "    tf.keras.layers.Flatten(),\n",
    "\n",
    "    # 🔢 Tam bağlı katman (128 nöronlu, aktivasyon fonksiyonu ReLU)\n",
    "    tf.keras.layers.Dense(128, activation='relu'),\n",
    "\n",
    "    # 🏷 Çıkış katmanı: 2 nöron (Kedi veya Köpek), Softmax aktivasyon fonksiyonu\n",
    "    tf.keras.layers.Dense(2, activation='softmax')\n",
    "])\n"
   ]
  },
  {
   "cell_type": "code",
   "execution_count": 18,
   "metadata": {},
   "outputs": [],
   "source": [
    "# 📌 Modeli derle\n",
    "model.compile(\n",
    "    optimizer='adam',  # Optimizasyon algoritması (Adam)\n",
    "    loss='sparse_categorical_crossentropy',  # Kategorik çapraz entropi kaybı\n",
    "    metrics=['accuracy']  # Başarı metriği: Doğruluk oranı\n",
    ")\n"
   ]
  },
  {
   "cell_type": "code",
   "execution_count": 19,
   "metadata": {},
   "outputs": [
    {
     "name": "stdout",
     "output_type": "stream",
     "text": [
      "Epoch 1/5\n",
      "\u001b[1m3/3\u001b[0m \u001b[32m━━━━━━━━━━━━━━━━━━━━\u001b[0m\u001b[37m\u001b[0m \u001b[1m20s\u001b[0m 5s/step - accuracy: 0.5364 - loss: 1.4503 - val_accuracy: 0.0000e+00 - val_loss: 3.1178\n",
      "Epoch 2/5\n",
      "\u001b[1m3/3\u001b[0m \u001b[32m━━━━━━━━━━━━━━━━━━━━\u001b[0m\u001b[37m\u001b[0m \u001b[1m12s\u001b[0m 4s/step - accuracy: 0.6186 - loss: 0.9950 - val_accuracy: 1.0000 - val_loss: 0.6485\n",
      "Epoch 3/5\n",
      "\u001b[1m3/3\u001b[0m \u001b[32m━━━━━━━━━━━━━━━━━━━━\u001b[0m\u001b[37m\u001b[0m \u001b[1m13s\u001b[0m 4s/step - accuracy: 0.6062 - loss: 0.6704 - val_accuracy: 0.0000e+00 - val_loss: 0.9932\n",
      "Epoch 4/5\n",
      "\u001b[1m3/3\u001b[0m \u001b[32m━━━━━━━━━━━━━━━━━━━━\u001b[0m\u001b[37m\u001b[0m \u001b[1m13s\u001b[0m 4s/step - accuracy: 0.7252 - loss: 0.6083 - val_accuracy: 0.0870 - val_loss: 0.8780\n",
      "Epoch 5/5\n",
      "\u001b[1m3/3\u001b[0m \u001b[32m━━━━━━━━━━━━━━━━━━━━\u001b[0m\u001b[37m\u001b[0m \u001b[1m19s\u001b[0m 4s/step - accuracy: 0.7611 - loss: 0.5445 - val_accuracy: 1.0000 - val_loss: 0.1297\n"
     ]
    }
   ],
   "source": [
    "# 📌 Modeli eğit ve doğrulama verisi kullanarak test et\n",
    "history = model.fit(X, Y, epochs=5, validation_split=0.2)  # Eğitim verisinin %20’si doğrulama için kullanılacak\n"
   ]
  },
  {
   "cell_type": "code",
   "execution_count": 20,
   "metadata": {},
   "outputs": [
    {
     "name": "stdout",
     "output_type": "stream",
     "text": [
      "Eğitim Doğruluğu: 0.7253\n",
      "Doğrulama Doğruluğu: 1.0000\n"
     ]
    }
   ],
   "source": [
    "# 🎯 Eğitim ve doğrulama doğruluk oranlarını al\n",
    "train_acc = history.history['accuracy'][-1]\n",
    "val_acc = history.history['val_accuracy'][-1]\n",
    "\n",
    "# 📊 Sonuçları ekrana yazdır\n",
    "print(f\"Eğitim Doğruluğu: {train_acc:.4f}\")\n",
    "print(f\"Doğrulama Doğruluğu: {val_acc:.4f}\")\n"
   ]
  }
 ],
 "metadata": {
  "kernelspec": {
   "display_name": "yapayzeka",
   "language": "python",
   "name": "python3"
  },
  "language_info": {
   "codemirror_mode": {
    "name": "ipython",
    "version": 3
   },
   "file_extension": ".py",
   "mimetype": "text/x-python",
   "name": "python",
   "nbconvert_exporter": "python",
   "pygments_lexer": "ipython3",
   "version": "3.11.11"
  }
 },
 "nbformat": 4,
 "nbformat_minor": 2
}
